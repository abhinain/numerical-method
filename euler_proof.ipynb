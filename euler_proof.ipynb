{
  "nbformat": 4,
  "nbformat_minor": 0,
  "metadata": {
    "colab": {
      "name": "euler-proof.ipynb",
      "provenance": [],
      "collapsed_sections": [
        "fcyASNea8h45"
      ],
      "authorship_tag": "ABX9TyOpR5wHyhRlG7v8EgZCl+MS",
      "include_colab_link": true
    },
    "kernelspec": {
      "name": "python3",
      "display_name": "Python 3"
    }
  },
  "cells": [
    {
      "cell_type": "markdown",
      "metadata": {
        "id": "view-in-github",
        "colab_type": "text"
      },
      "source": [
        "<a href=\"https://colab.research.google.com/github/yohanesnuwara/numerical-method/blob/master/euler_proof.ipynb\" target=\"_parent\"><img src=\"https://colab.research.google.com/assets/colab-badge.svg\" alt=\"Open In Colab\"/></a>"
      ]
    },
    {
      "cell_type": "code",
      "metadata": {
        "id": "OElkE8f1DVeV",
        "colab_type": "code",
        "colab": {}
      },
      "source": [
        "import numpy as np\n",
        "import matplotlib.pyplot as plt\n",
        "import pandas as pd\n",
        "\n",
        "import scipy.special"
      ],
      "execution_count": 0,
      "outputs": []
    },
    {
      "cell_type": "markdown",
      "metadata": {
        "id": "AMC_aYHCKUW2",
        "colab_type": "text"
      },
      "source": [
        "# Taylor Series of $e^x$"
      ]
    },
    {
      "cell_type": "code",
      "metadata": {
        "id": "eZf-266pDuk5",
        "colab_type": "code",
        "outputId": "640e8913-3748-4b4e-b91b-628ea798b937",
        "colab": {
          "base_uri": "https://localhost:8080/",
          "height": 265
        }
      },
      "source": [
        "x = np.linspace(-3, 3, 100)\n",
        "y_exp = np.exp(x)\n",
        "\n",
        "plt.plot(x, y_exp, '.')\n",
        "plt.grid(True)"
      ],
      "execution_count": 116,
      "outputs": [
        {
          "output_type": "display_data",
          "data": {
            "image/png": "[encoded data removed]",
            "text/plain": [
              "<Figure size 432x288 with 1 Axes>"
            ]
          },
          "metadata": {
            "tags": []
          }
        }
      ]
    },
    {
      "cell_type": "code",
      "metadata": {
        "id": "1rFBfbcFEciv",
        "colab_type": "code",
        "outputId": "19454b06-5dce-47c3-ca55-bf8c76fba156",
        "colab": {
          "base_uri": "https://localhost:8080/",
          "height": 297
        }
      },
      "source": [
        "n = 3 # adjust\n",
        "x = np.linspace(-3, 3, 100)\n",
        "\n",
        "ys = []\n",
        "for j in range(len(x)):\n",
        "  yn = []\n",
        "  for i in range(0,n+1):\n",
        "    y = (x[j]**i) / scipy.special.factorial(i)\n",
        "    yn.append(float(y))\n",
        "  ysum = np.sum(yn)\n",
        "  ys.append(float(ysum))\n",
        "\n",
        "p1 = plt.plot(x, y_exp, '.', color='blue')\n",
        "p2 = plt.plot(x, ys, color='red')\n",
        "plt.title('Taylor Approximation to Function $e^x$ with n={}'.format(n))\n",
        "plt.legend((p1[0], p2[0]), (['Real value', 'Approximated value']))\n",
        "plt.xlabel('x'); plt.ylabel('y')\n",
        "plt.grid(True)"
      ],
      "execution_count": 118,
      "outputs": [
        {
          "output_type": "display_data",
          "data": {
            "image/png": "[encoded data removed]",
            "text/plain": [
              "<Figure size 432x288 with 1 Axes>"
            ]
          },
          "metadata": {
            "tags": []
          }
        }
      ]
    },
    {
      "cell_type": "markdown",
      "metadata": {
        "id": "c9oZKrCqOFgw",
        "colab_type": "text"
      },
      "source": [
        "# Bernoulli Numbers\n"
      ]
    },
    {
      "cell_type": "code",
      "metadata": {
        "id": "KjVH-Sme8e53",
        "colab_type": "code",
        "colab": {
          "base_uri": "https://localhost:8080/",
          "height": 385
        },
        "outputId": "e76b11de-febc-4a0a-d74d-d896f974f99e"
      },
      "source": [
        "from fractions import Fraction as Fr\n",
        "\n",
        "count = 20 # how many bernoulli numbers will be created\n",
        "\n",
        "def bernoulli(n):\n",
        "    A = [0] * (n+1)\n",
        "    for m in range(n+1):\n",
        "        A[m] = Fr(1, m+1)\n",
        "        for j in range(m, 0, -1):\n",
        "          A[j-1] = j*(A[j-1] - A[j])\n",
        "    return A[0] # (which is Bn)\n",
        " \n",
        "bn = [(i, bernoulli(i)) for i in range(count+1)]\n",
        "# bn = [(i, b) for i,b in bn if b] # filter the odd sequence\n",
        "width = max(len(str(b.numerator)) for i,b in bn)\n",
        "print('Bernoulli numbers until n={}'.format(count))\n",
        "for i,b in bn:\n",
        "    print('B(%2i) = %*i/%i' % (i, width, b.numerator, b.denominator))"
      ],
      "execution_count": 128,
      "outputs": [
        {
          "output_type": "stream",
          "text": [
            "Bernoulli numbers until n=20\n",
            "B( 0) =       1/1\n",
            "B( 1) =       1/2\n",
            "B( 2) =       1/6\n",
            "B( 3) =       0/1\n",
            "B( 4) =      -1/30\n",
            "B( 5) =       0/1\n",
            "B( 6) =       1/42\n",
            "B( 7) =       0/1\n",
            "B( 8) =      -1/30\n",
            "B( 9) =       0/1\n",
            "B(10) =       5/66\n",
            "B(11) =       0/1\n",
            "B(12) =    -691/2730\n",
            "B(13) =       0/1\n",
            "B(14) =       7/6\n",
            "B(15) =       0/1\n",
            "B(16) =   -3617/510\n",
            "B(17) =       0/1\n",
            "B(18) =   43867/798\n",
            "B(19) =       0/1\n",
            "B(20) = -174611/330\n"
          ],
          "name": "stdout"
        }
      ]
    },
    {
      "cell_type": "code",
      "metadata": {
        "id": "7qJkC5159O6m",
        "colab_type": "code",
        "colab": {
          "base_uri": "https://localhost:8080/",
          "height": 385
        },
        "outputId": "5e707e07-a93d-4efd-e954-40aa803b1a42"
      },
      "source": [
        "# convert fractions to decimal\n",
        "b2n = []\n",
        "for j in range(len(bn)):\n",
        "  bernoulli = np.float64(bn[j][1])\n",
        "  print('B({}) = {}'.format(j, bernoulli))\n",
        "  b2n.append(float(bernoulli))\n",
        "\n",
        "# output: b2n"
      ],
      "execution_count": 91,
      "outputs": [
        {
          "output_type": "stream",
          "text": [
            "B(0) = 1.0\n",
            "B(1) = 0.5\n",
            "B(2) = 0.16666666666666666\n",
            "B(3) = 0.0\n",
            "B(4) = -0.03333333333333333\n",
            "B(5) = 0.0\n",
            "B(6) = 0.023809523809523808\n",
            "B(7) = 0.0\n",
            "B(8) = -0.03333333333333333\n",
            "B(9) = 0.0\n",
            "B(10) = 0.07575757575757576\n",
            "B(11) = 0.0\n",
            "B(12) = -0.2531135531135531\n",
            "B(13) = 0.0\n",
            "B(14) = 1.1666666666666667\n",
            "B(15) = 0.0\n",
            "B(16) = -7.092156862745098\n",
            "B(17) = 0.0\n",
            "B(18) = 54.971177944862156\n",
            "B(19) = 0.0\n",
            "B(20) = -529.1242424242424\n",
            "B(21) = 0.0\n"
          ],
          "name": "stdout"
        }
      ]
    },
    {
      "cell_type": "markdown",
      "metadata": {
        "id": "vJdR0PvXtIfW",
        "colab_type": "text"
      },
      "source": [
        "# Tangent Function\n",
        "\n",
        "Bernoulli numbers are applied to compute tangent function approximated using Taylor series"
      ]
    },
    {
      "cell_type": "code",
      "metadata": {
        "id": "A9WKV8LJ8lhq",
        "colab_type": "code",
        "colab": {
          "base_uri": "https://localhost:8080/",
          "height": 269
        },
        "outputId": "0e97d6de-81ec-4ae4-8ea7-5ebb2e04e228"
      },
      "source": [
        "x = np.arange(-2*np.pi, 2*np.pi, 0.1)\n",
        "y = np.tan(x)\n",
        "\n",
        "# Insert a NaN where the difference between successive points is negative\n",
        "y[:-1][np.diff(y) < 0] = np.nan\n",
        "\n",
        "plt.plot(x, y)\n",
        "plt.xlim(min(x), max(x)); plt.ylim(-2,2)\n",
        "plt.grid(True)"
      ],
      "execution_count": 119,
      "outputs": [
        {
          "output_type": "display_data",
          "data": {
            "image/png": "[encoded data removed]",
            "text/plain": [
              "<Figure size 432x288 with 1 Axes>"
            ]
          },
          "metadata": {
            "tags": []
          }
        }
      ]
    },
    {
      "cell_type": "code",
      "metadata": {
        "id": "zT_QuXFkOYN5",
        "colab_type": "code",
        "colab": {
          "base_uri": "https://localhost:8080/",
          "height": 33
        },
        "outputId": "6e8885dc-b20a-4d4c-963c-d1d964c1b847"
      },
      "source": [
        "# x = np.arange(-2*np.pi, 2*np.pi, 0.1)\n",
        "x = np.deg2rad(45)\n",
        "count = 20\n",
        "\n",
        "# compute bernoulli numbers\n",
        "def bernoulli(n):\n",
        "    A = [0] * (n+1)\n",
        "    for m in range(n+1):\n",
        "        A[m] = Fr(1, m+1)\n",
        "        for j in range(m, 0, -1):\n",
        "          A[j-1] = j*(A[j-1] - A[j])\n",
        "    return A[0] # (which is Bn)\n",
        " \n",
        "bn = [(i, bernoulli(i)) for i in range(count+1)]\n",
        "\n",
        "# convert fractions to decimal\n",
        "b2n = []\n",
        "for j in range(len(bn)):\n",
        "  bernoulli = np.float64(bn[j][1])\n",
        "  b2n.append(float(bernoulli))\n",
        "\n",
        "# compute tangent approximation\n",
        "series = []\n",
        "for n in range(1, count+1):\n",
        "  a = (-1)**(n+1)\n",
        "  numerator = (2**(2*n)) * ((2**(2*n)) - 1)\n",
        "  denominator = scipy.special.factorial(2*n)\n",
        "  bernoulli = b2n[n]\n",
        "  serie = a * (numerator / denominator) * bernoulli * (x**(2 * n - 1))\n",
        "  series.append(float(serie))\n",
        "\n",
        "tangent = np.sum(series)"
      ],
      "execution_count": 157,
      "outputs": [
        {
          "output_type": "stream",
          "text": [
            "21\n"
          ],
          "name": "stdout"
        }
      ]
    },
    {
      "cell_type": "code",
      "metadata": {
        "id": "_XVtwsSmhuR1",
        "colab_type": "code",
        "colab": {
          "base_uri": "https://localhost:8080/",
          "height": 1000
        },
        "outputId": "72782131-45b3-4ab6-9a62-9a6f73c8863f"
      },
      "source": [
        "x = np.arange(-2*np.pi, 2*np.pi, 0.1)\n",
        "# x = np.deg2rad(45)\n",
        "count = 20\n",
        "\n",
        "# compute bernoulli numbers\n",
        "def bernoulli(n):\n",
        "    A = [0] * (n+1)\n",
        "    for m in range(n+1):\n",
        "        A[m] = Fr(1, m+1)\n",
        "        for j in range(m, 0, -1):\n",
        "          A[j-1] = j*(A[j-1] - A[j])\n",
        "    return A[0] # (which is Bn)\n",
        " \n",
        "bn = [(i, bernoulli(i)) for i in range(count+1)]\n",
        "\n",
        "# convert fractions to decimal\n",
        "b2n = []\n",
        "for j in range(len(bn)):\n",
        "  bernoulli = np.float64(bn[j][1])\n",
        "  b2n.append(float(bernoulli))\n",
        "\n",
        "# # compute tangent approximation\n",
        "# series = []\n",
        "# for n in range(1, count+1):\n",
        "#   a = (-1)**(n+1)\n",
        "#   numerator = (2**(2*n)) * ((2**(2*n)) - 1)\n",
        "#   denominator = scipy.special.factorial(2*n)\n",
        "#   bernoulli = b2n[n]\n",
        "#   serie = a * (numerator / denominator) * bernoulli * (x**(2 * n - 1))\n",
        "#   series.append(float(serie))\n",
        "\n",
        "# tangent = np.sum(series)\n",
        "\n",
        "ys = []\n",
        "for j in range(len(x)):\n",
        "  # compute tangent approximation\n",
        "  series = []\n",
        "  for n in range(1, count+1):\n",
        "    a = (-1)**(n+1)\n",
        "    numerator = (2**(2*n)) * ((2**(2*n)) - 1)\n",
        "    denominator = scipy.special.factorial(2*n)\n",
        "    bernoulli = b2n[n]\n",
        "    serie = a * (numerator / denominator) * bernoulli * (x[n]**(2 * n - 1))\n",
        "    series.append(float(serie))\n",
        "  tangent = np.sum(series)\n",
        "  # ys.append(float(tangent))\n",
        "  print(tangent)\n",
        "\n",
        "ys"
      ],
      "execution_count": 163,
      "outputs": [
        {
          "output_type": "stream",
          "text": [
            "1970.5792257416351\n",
            "1970.5792257416351\n",
            "1970.5792257416351\n",
            "1970.5792257416351\n",
            "1970.5792257416351\n",
            "1970.5792257416351\n",
            "1970.5792257416351\n",
            "1970.5792257416351\n",
            "1970.5792257416351\n",
            "1970.5792257416351\n",
            "1970.5792257416351\n",
            "1970.5792257416351\n",
            "1970.5792257416351\n",
            "1970.5792257416351\n",
            "1970.5792257416351\n",
            "1970.5792257416351\n",
            "1970.5792257416351\n",
            "1970.5792257416351\n",
            "1970.5792257416351\n",
            "1970.5792257416351\n",
            "1970.5792257416351\n",
            "1970.5792257416351\n",
            "1970.5792257416351\n",
            "1970.5792257416351\n",
            "1970.5792257416351\n",
            "1970.5792257416351\n",
            "1970.5792257416351\n",
            "1970.5792257416351\n",
            "1970.5792257416351\n",
            "1970.5792257416351\n",
            "1970.5792257416351\n",
            "1970.5792257416351\n",
            "1970.5792257416351\n",
            "1970.5792257416351\n",
            "1970.5792257416351\n",
            "1970.5792257416351\n",
            "1970.5792257416351\n",
            "1970.5792257416351\n",
            "1970.5792257416351\n",
            "1970.5792257416351\n",
            "1970.5792257416351\n",
            "1970.5792257416351\n",
            "1970.5792257416351\n",
            "1970.5792257416351\n",
            "1970.5792257416351\n",
            "1970.5792257416351\n",
            "1970.5792257416351\n",
            "1970.5792257416351\n",
            "1970.5792257416351\n",
            "1970.5792257416351\n",
            "1970.5792257416351\n",
            "1970.5792257416351\n",
            "1970.5792257416351\n",
            "1970.5792257416351\n",
            "1970.5792257416351\n",
            "1970.5792257416351\n",
            "1970.5792257416351\n",
            "1970.5792257416351\n",
            "1970.5792257416351\n",
            "1970.5792257416351\n",
            "1970.5792257416351\n",
            "1970.5792257416351\n",
            "1970.5792257416351\n",
            "1970.5792257416351\n",
            "1970.5792257416351\n",
            "1970.5792257416351\n",
            "1970.5792257416351\n",
            "1970.5792257416351\n",
            "1970.5792257416351\n",
            "1970.5792257416351\n",
            "1970.5792257416351\n",
            "1970.5792257416351\n",
            "1970.5792257416351\n",
            "1970.5792257416351\n",
            "1970.5792257416351\n",
            "1970.5792257416351\n",
            "1970.5792257416351\n",
            "1970.5792257416351\n",
            "1970.5792257416351\n",
            "1970.5792257416351\n",
            "1970.5792257416351\n",
            "1970.5792257416351\n",
            "1970.5792257416351\n",
            "1970.5792257416351\n",
            "1970.5792257416351\n",
            "1970.5792257416351\n",
            "1970.5792257416351\n",
            "1970.5792257416351\n",
            "1970.5792257416351\n",
            "1970.5792257416351\n",
            "1970.5792257416351\n",
            "1970.5792257416351\n",
            "1970.5792257416351\n",
            "1970.5792257416351\n",
            "1970.5792257416351\n",
            "1970.5792257416351\n",
            "1970.5792257416351\n",
            "1970.5792257416351\n",
            "1970.5792257416351\n",
            "1970.5792257416351\n",
            "1970.5792257416351\n",
            "1970.5792257416351\n",
            "1970.5792257416351\n",
            "1970.5792257416351\n",
            "1970.5792257416351\n",
            "1970.5792257416351\n",
            "1970.5792257416351\n",
            "1970.5792257416351\n",
            "1970.5792257416351\n",
            "1970.5792257416351\n",
            "1970.5792257416351\n",
            "1970.5792257416351\n",
            "1970.5792257416351\n",
            "1970.5792257416351\n",
            "1970.5792257416351\n",
            "1970.5792257416351\n",
            "1970.5792257416351\n",
            "1970.5792257416351\n",
            "1970.5792257416351\n",
            "1970.5792257416351\n",
            "1970.5792257416351\n",
            "1970.5792257416351\n",
            "1970.5792257416351\n",
            "1970.5792257416351\n",
            "1970.5792257416351\n",
            "1970.5792257416351\n"
          ],
          "name": "stdout"
        },
        {
          "output_type": "execute_result",
          "data": {
            "text/plain": [
              "[]"
            ]
          },
          "metadata": {
            "tags": []
          },
          "execution_count": 163
        }
      ]
    },
    {
      "cell_type": "code",
      "metadata": {
        "id": "iZIB0IsQdwbU",
        "colab_type": "code",
        "colab": {
          "base_uri": "https://localhost:8080/",
          "height": 33
        },
        "outputId": "b28f0ac0-eee1-42cd-dcdd-263d885dbe3c"
      },
      "source": [
        "np.tan(np.deg2rad(45))"
      ],
      "execution_count": 139,
      "outputs": [
        {
          "output_type": "execute_result",
          "data": {
            "text/plain": [
              "0.9999999999999999"
            ]
          },
          "metadata": {
            "tags": []
          },
          "execution_count": 139
        }
      ]
    },
    {
      "cell_type": "markdown",
      "metadata": {
        "id": "fcyASNea8h45",
        "colab_type": "text"
      },
      "source": [
        "# ***"
      ]
    },
    {
      "cell_type": "code",
      "metadata": {
        "id": "p6K3lR1UKc-y",
        "colab_type": "code",
        "outputId": "f4a2c48f-e9c4-4e4e-d9ac-523990aa8427",
        "colab": {
          "base_uri": "https://localhost:8080/",
          "height": 0
        }
      },
      "source": [
        "B0 = 1\n",
        "n = 1\n",
        "k = 0\n",
        "binomial_nk = (scipy.special.factorial(n)) / (scipy.special.factorial(k)) * (scipy.special.factorial(n - k))\n",
        "numerator = n - k + 1\n",
        "\n",
        "B1 = B0 - binomial_nk * (B0 / 2)\n",
        "B1"
      ],
      "execution_count": 9,
      "outputs": [
        {
          "output_type": "execute_result",
          "data": {
            "text/plain": [
              "0.5"
            ]
          },
          "metadata": {
            "tags": []
          },
          "execution_count": 9
        }
      ]
    },
    {
      "cell_type": "code",
      "metadata": {
        "id": "pIKLUzA7hJ1H",
        "colab_type": "code",
        "colab": {
          "base_uri": "https://localhost:8080/",
          "height": 0
        },
        "outputId": "0e05dde5-d630-4ce5-b2f3-a6d03610b588"
      },
      "source": [
        "n = 3\n",
        "k = np.arange(0, n, 1)\n",
        "\n",
        "Bmin = np.array([1, 0.5, (1/6)])\n",
        "for i in range(n):\n",
        "  binomial_nk = (scipy.special.factorial(n)) / (scipy.special.factorial(i)) * (scipy.special.factorial(n - i))\n",
        "  denominator = n - k[i] + 1\n",
        "  serie = binomial_nk * (Bmin[i] / denominator)\n",
        "  print(binomial_nk) "
      ],
      "execution_count": 18,
      "outputs": [
        {
          "output_type": "stream",
          "text": [
            "36.0\n",
            "12.0\n",
            "3.0\n"
          ],
          "name": "stdout"
        }
      ]
    },
    {
      "cell_type": "code",
      "metadata": {
        "id": "PXlo8Lkci5rd",
        "colab_type": "code",
        "colab": {
          "base_uri": "https://localhost:8080/",
          "height": 0
        },
        "outputId": "4a8cfb82-7e55-4c23-b2a4-72569095e80e"
      },
      "source": [
        "p = [1,2,3]\n",
        "\n",
        "for j in range(len(p)):\n",
        "  print(j)"
      ],
      "execution_count": 14,
      "outputs": [
        {
          "output_type": "stream",
          "text": [
            "0\n",
            "1\n",
            "2\n"
          ],
          "name": "stdout"
        }
      ]
    },
    {
      "cell_type": "code",
      "metadata": {
        "id": "kSkcEinBUww9",
        "colab_type": "code",
        "outputId": "a25f684d-0336-48c7-9cbb-90cf081525f4",
        "colab": {
          "base_uri": "https://localhost:8080/",
          "height": 33
        }
      },
      "source": [
        "n = 1\n",
        "k = np.arange(0, n, 1)\n",
        "\n",
        "Bmin = []\n",
        "\n",
        "for i in range(n):\n",
        "  Bmin = 1 # bernoulli number for n=0\n",
        "  binomial_nk = (scipy.special.factorial(n)) / (scipy.special.factorial(i)) * (scipy.special.factorial(n - i))\n",
        "  numerator = n - k + 1\n",
        "  bernoulli = Bmin - binomial_nk * (Bmin / 2)\n",
        "  Bmin = bernoulli\n",
        "  print(bernoulli)"
      ],
      "execution_count": 0,
      "outputs": [
        {
          "output_type": "stream",
          "text": [
            "0.5\n"
          ],
          "name": "stdout"
        }
      ]
    },
    {
      "cell_type": "code",
      "metadata": {
        "id": "RKhWhF9jV8vS",
        "colab_type": "code",
        "outputId": "8509bc95-d9f4-4442-d9eb-e545552626ab",
        "colab": {
          "base_uri": "https://localhost:8080/",
          "height": 33
        }
      },
      "source": [
        "a = 1\n",
        "\n",
        "for i in range(a):\n",
        "  print(i)"
      ],
      "execution_count": 0,
      "outputs": [
        {
          "output_type": "stream",
          "text": [
            "0\n"
          ],
          "name": "stdout"
        }
      ]
    },
    {
      "cell_type": "code",
      "metadata": {
        "id": "Yr4-jsGV3QtF",
        "colab_type": "code",
        "colab": {}
      },
      "source": [
        "B2n = np.array([])"
      ],
      "execution_count": 0,
      "outputs": []
    }
  ]
}